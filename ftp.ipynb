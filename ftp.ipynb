{
 "cells": [
  {
   "cell_type": "code",
   "execution_count": null,
   "metadata": {},
   "outputs": [],
   "source": []
  },
  {
   "cell_type": "code",
   "execution_count": null,
   "metadata": {},
   "outputs": [
    {
     "data": {
      "text/plain": [
       "'200 PROT now Private.'"
      ]
     },
     "execution_count": 9,
     "metadata": {},
     "output_type": "execute_result"
    }
   ],
   "source": [
    "# from ftplib import FTP_TLS\n",
    "\n",
    "# # FTP details\n",
    "# ftphost = \"\" # replace with your FTP ip address or just localhost\n",
    "# ftpuser = \"\" # replace with your FTP username\n",
    "# ftppass = \"\" # replace with your FTP password\n",
    "# ftpport =  \n",
    "\n",
    "# # Login to FTP\n",
    "# ftp = FTP_TLS()\n",
    "# ftp.connect(ftphost, ftpport)\n",
    "# ftp.login(ftpuser, ftppass)\n",
    "# ftp.prot_p() # Fix on 522 Data connections must be encrypted.\n",
    "\n"
   ]
  },
  {
   "cell_type": "code",
   "execution_count": 7,
   "metadata": {},
   "outputs": [
    {
     "data": {
      "text/plain": [
       "'/home/ftpuser'"
      ]
     },
     "execution_count": 7,
     "metadata": {},
     "output_type": "execute_result"
    }
   ],
   "source": [
    "ftp.pwd()"
   ]
  },
  {
   "cell_type": "code",
   "execution_count": null,
   "metadata": {},
   "outputs": [],
   "source": [
    "# # Create sample file\n",
    "# with open(\"test.txt\", \"w\") as fp:\n",
    "#     fp.write(\"This is my sample message\\n\")\n",
    "#     fp.write(\"Another sample message\\n\")\n",
    "#     fp.write(\"bye\\n\")\n",
    "\n",
    "# # Upload file to FTP \n",
    "# with open(\"test.txt\", \"rb\") as fp:\n",
    "#     ftp.storbinary(\"STOR test_ftp.txt\", fp)\n",
    "\n",
    "# # Download file from FTP \n",
    "# with open(\"test_download.txt\", \"wb\") as fp:\n",
    "#     ftp.retrbinary(\"RETR test_ftp.txt\",fp.write)\n",
    "\n",
    "# # Delete file from FTP\n",
    "# ftp.delete(\"test_ftp.txt\")\n",
    "\n",
    "# # If this line gets printed, you have successfully \n",
    "# # established connection to the WSL FTP Server. \n",
    "# print(\"Upload, download, delete tests complete\")"
   ]
  }
 ],
 "metadata": {
  "kernelspec": {
   "display_name": ".venv",
   "language": "python",
   "name": "python3"
  },
  "language_info": {
   "codemirror_mode": {
    "name": "ipython",
    "version": 3
   },
   "file_extension": ".py",
   "mimetype": "text/x-python",
   "name": "python",
   "nbconvert_exporter": "python",
   "pygments_lexer": "ipython3",
   "version": "3.12.4"
  }
 },
 "nbformat": 4,
 "nbformat_minor": 2
}
